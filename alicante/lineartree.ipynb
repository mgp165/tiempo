{
 "cells": [
  {
   "cell_type": "markdown",
   "id": "86f5ef90",
   "metadata": {},
   "source": [
    "# Linear Trees"
   ]
  },
  {
   "cell_type": "code",
   "execution_count": 2,
   "id": "9c710973",
   "metadata": {},
   "outputs": [
    {
     "name": "stdout",
     "output_type": "stream",
     "text": [
      "Collecting linear-tree\n",
      "  Downloading linear_tree-0.3.5-py3-none-any.whl (21 kB)\n",
      "Requirement already satisfied: scipy in c:\\users\\manug\\anaconda3\\lib\\site-packages (from linear-tree) (1.7.3)\n",
      "Requirement already satisfied: scikit-learn>=0.24.2 in c:\\users\\manug\\anaconda3\\lib\\site-packages (from linear-tree) (1.0.2)\n",
      "Requirement already satisfied: numpy in c:\\users\\manug\\anaconda3\\lib\\site-packages (from linear-tree) (1.21.5)\n",
      "Requirement already satisfied: joblib>=0.11 in c:\\users\\manug\\anaconda3\\lib\\site-packages (from scikit-learn>=0.24.2->linear-tree) (1.1.0)\n",
      "Requirement already satisfied: threadpoolctl>=2.0.0 in c:\\users\\manug\\anaconda3\\lib\\site-packages (from scikit-learn>=0.24.2->linear-tree) (2.2.0)\n",
      "Installing collected packages: linear-tree\n",
      "Successfully installed linear-tree-0.3.5\n",
      "Note: you may need to restart the kernel to use updated packages.\n"
     ]
    }
   ],
   "source": [
    "pip install --upgrade linear-tree"
   ]
  },
  {
   "cell_type": "code",
   "execution_count": 3,
   "id": "45419e0f",
   "metadata": {},
   "outputs": [],
   "source": [
    "import numpy as np\n",
    "import pandas as pd\n",
    "from lineartree import LinearTreeRegressor\n",
    "from sklearn.metrics import mean_absolute_error\n",
    "import time"
   ]
  },
  {
   "cell_type": "code",
   "execution_count": 5,
   "id": "51ab0ccf",
   "metadata": {},
   "outputs": [
    {
     "name": "stdout",
     "output_type": "stream",
     "text": [
      "Collecting PyArrow\n",
      "  Downloading pyarrow-12.0.0-cp39-cp39-win_amd64.whl (21.5 MB)\n",
      "Requirement already satisfied: numpy>=1.16.6 in c:\\users\\manug\\anaconda3\\lib\\site-packages (from PyArrow) (1.21.5)\n",
      "Installing collected packages: PyArrow\n",
      "Successfully installed PyArrow-12.0.0\n",
      "Note: you may need to restart the kernel to use updated packages.\n"
     ]
    }
   ],
   "source": [
    "pip install PyArrow"
   ]
  },
  {
   "cell_type": "code",
   "execution_count": 6,
   "id": "19bf437f",
   "metadata": {},
   "outputs": [],
   "source": [
    "tiempo = pd.read_parquet('dataframe_final_1970-2023_alicante_alicante.parquet')"
   ]
  },
  {
   "cell_type": "code",
   "execution_count": 7,
   "id": "0ca3cd9c",
   "metadata": {},
   "outputs": [],
   "source": [
    "# 70% del tiempo para el train, 30% validacion (hasta 31 diciembre 2022)\n",
    "# el conjunto de test cogeremos 2023\n",
    "\n",
    "fecha_test = '2007-12-31'"
   ]
  },
  {
   "cell_type": "code",
   "execution_count": 8,
   "id": "268d4a1b",
   "metadata": {},
   "outputs": [],
   "source": [
    "# las variables del día siguiente las eliminamos y también las correspondientes a la localización ya que estamos solo en Alicante\n",
    "\n",
    "model_columns = list(set(tiempo.columns) - set(['tmed_mañana', 'prec_mañana', 'tmin_mañana', 'horatmin_mañana', 'tmax_mañana',\n",
    "                                                                                    'horatmax_mañana', 'dir_mañana', 'velmedia_mañana', 'racha_mañana', 'horaracha_mañana', \n",
    "                                                                                    'sol_mañana', 'presMax_mañana', 'horaPresMax_mañana', 'presMin_mañana', 'horaPresMin_mañana',\n",
    "                                                                                    'indicativo', 'nombre', 'provincia', 'altitud', 'fecha']))"
   ]
  },
  {
   "cell_type": "code",
   "execution_count": 9,
   "id": "680064fa",
   "metadata": {},
   "outputs": [],
   "source": [
    "tiempo.horatmin = tiempo.horatmin.apply(lambda x: pd.to_datetime(str(x), format='%H:%M:%S').round('H').hour if x is not None else np.nan)\n",
    "tiempo.horatmax = tiempo.horatmax.apply(lambda x: pd.to_datetime(str(x), format='%H:%M:%S').round('H').hour if x is not None else np.nan)\n",
    "tiempo.horaracha = tiempo.horaracha.apply(lambda x: pd.to_datetime(str(x), format='%H:%M:%S').round('H').hour if x is not None else np.nan)\n",
    "tiempo.horaPresMax = tiempo.horaPresMax.apply(lambda x: x.hour if x is not None else np.nan)\n",
    "tiempo.horaPresMin = tiempo.horaPresMin.apply(lambda x: x.hour if x is not None else np.nan)\n",
    "\n",
    "tiempo.horatmin_1 = tiempo.horatmin_1.apply(lambda x: pd.to_datetime(str(x), format='%H:%M:%S').round('H').hour if x is not None else np.nan)\n",
    "tiempo.horatmin_2 = tiempo.horatmin_2.apply(lambda x: pd.to_datetime(str(x), format='%H:%M:%S').round('H').hour if x is not None else np.nan)\n",
    "tiempo.horatmin_3 = tiempo.horatmin_3.apply(lambda x: pd.to_datetime(str(x), format='%H:%M:%S').round('H').hour if x is not None else np.nan)\n",
    "tiempo.horatmin_mañana = tiempo.horatmin_mañana.apply(lambda x: pd.to_datetime(str(x), format='%H:%M:%S').round('H').hour if x is not None else np.nan)\n",
    "\n",
    "tiempo.horatmax_1 = tiempo.horatmax_1.apply(lambda x: pd.to_datetime(str(x), format='%H:%M:%S').round('H').hour if x is not None else np.nan)\n",
    "tiempo.horatmax_2 = tiempo.horatmax_2.apply(lambda x: pd.to_datetime(str(x), format='%H:%M:%S').round('H').hour if x is not None else np.nan)\n",
    "tiempo.horatmax_3 = tiempo.horatmax_3.apply(lambda x: pd.to_datetime(str(x), format='%H:%M:%S').round('H').hour if x is not None else np.nan)\n",
    "tiempo.horatmax_mañana = tiempo.horatmax_mañana.apply(lambda x: pd.to_datetime(str(x), format='%H:%M:%S').round('H').hour if x is not None else np.nan)\n",
    "\n",
    "tiempo.horaracha_1 = tiempo.horaracha_1.apply(lambda x: pd.to_datetime(str(x), format='%H:%M:%S').round('H').hour if x is not None else np.nan)\n",
    "tiempo.horaracha_2 = tiempo.horaracha_2.apply(lambda x: pd.to_datetime(str(x), format='%H:%M:%S').round('H').hour if x is not None else np.nan)\n",
    "tiempo.horaracha_3 = tiempo.horaracha_3.apply(lambda x: pd.to_datetime(str(x), format='%H:%M:%S').round('H').hour if x is not None else np.nan)\n",
    "tiempo.horaracha_mañana = tiempo.horaracha_mañana.apply(lambda x: pd.to_datetime(str(x), format='%H:%M:%S').round('H').hour if x is not None else np.nan)\n",
    "\n",
    "tiempo.horaPresMax_1 = tiempo.horaPresMax_1.apply(lambda x: x.hour if x is not None else np.nan)\n",
    "tiempo.horaPresMax_2 = tiempo.horaPresMax_2.apply(lambda x: x.hour if x is not None else np.nan)\n",
    "tiempo.horaPresMax_3 = tiempo.horaPresMax_3.apply(lambda x: x.hour if x is not None else np.nan)\n",
    "tiempo.horaPresMax_mañana = tiempo.horaPresMax_mañana.apply(lambda x: x.hour if x is not None else np.nan)\n",
    "\n",
    "tiempo.horaPresMin_1 = tiempo.horaPresMin_1.apply(lambda x: x.hour if x is not None else np.nan)\n",
    "tiempo.horaPresMin_2 = tiempo.horaPresMin_2.apply(lambda x: x.hour if x is not None else np.nan)\n",
    "tiempo.horaPresMin_3 = tiempo.horaPresMin_3.apply(lambda x: x.hour if x is not None else np.nan)\n",
    "tiempo.horaPresMin_mañana = tiempo.horaPresMin_mañana.apply(lambda x: x.hour if x is not None else np.nan)"
   ]
  },
  {
   "cell_type": "code",
   "execution_count": 10,
   "id": "414248ba",
   "metadata": {},
   "outputs": [],
   "source": [
    "tiempo['año'] = tiempo['fecha'].dt.year\n",
    "tiempo['mes'] = tiempo['fecha'].dt.month\n",
    "tiempo['dia'] = tiempo['fecha'].dt.day"
   ]
  },
  {
   "cell_type": "code",
   "execution_count": 11,
   "id": "1e34ca5d",
   "metadata": {},
   "outputs": [],
   "source": [
    "train = tiempo[tiempo.fecha <= fecha_test].fillna(-1)\n",
    "test = tiempo[tiempo.fecha > fecha_test].fillna(-1)"
   ]
  },
  {
   "cell_type": "code",
   "execution_count": 12,
   "id": "9f69b09c",
   "metadata": {},
   "outputs": [],
   "source": [
    "from sklearn.linear_model import LinearRegression"
   ]
  },
  {
   "cell_type": "markdown",
   "id": "0528ff25",
   "metadata": {},
   "source": [
    "## Target: tmax_mañana"
   ]
  },
  {
   "cell_type": "code",
   "execution_count": 14,
   "id": "0a4b48c0",
   "metadata": {},
   "outputs": [
    {
     "data": {
      "text/html": [
       "<div>\n",
       "<style scoped>\n",
       "    .dataframe tbody tr th:only-of-type {\n",
       "        vertical-align: middle;\n",
       "    }\n",
       "\n",
       "    .dataframe tbody tr th {\n",
       "        vertical-align: top;\n",
       "    }\n",
       "\n",
       "    .dataframe thead th {\n",
       "        text-align: right;\n",
       "    }\n",
       "</style>\n",
       "<table border=\"1\" class=\"dataframe\">\n",
       "  <thead>\n",
       "    <tr style=\"text-align: right;\">\n",
       "      <th></th>\n",
       "      <th>Run_Time</th>\n",
       "      <th>Train_MAE</th>\n",
       "      <th>Test_MAE</th>\n",
       "      <th>delta</th>\n",
       "    </tr>\n",
       "  </thead>\n",
       "  <tbody>\n",
       "    <tr>\n",
       "      <th>LT_5</th>\n",
       "      <td>65.029189</td>\n",
       "      <td>1.463658</td>\n",
       "      <td>1.968609</td>\n",
       "      <td>0.504951</td>\n",
       "    </tr>\n",
       "    <tr>\n",
       "      <th>LT_10</th>\n",
       "      <td>67.254275</td>\n",
       "      <td>1.463658</td>\n",
       "      <td>1.968609</td>\n",
       "      <td>0.504951</td>\n",
       "    </tr>\n",
       "    <tr>\n",
       "      <th>LT_15</th>\n",
       "      <td>73.677303</td>\n",
       "      <td>1.463658</td>\n",
       "      <td>1.968609</td>\n",
       "      <td>0.504951</td>\n",
       "    </tr>\n",
       "    <tr>\n",
       "      <th>LT_20</th>\n",
       "      <td>72.653455</td>\n",
       "      <td>1.463658</td>\n",
       "      <td>1.968609</td>\n",
       "      <td>0.504951</td>\n",
       "    </tr>\n",
       "  </tbody>\n",
       "</table>\n",
       "</div>"
      ],
      "text/plain": [
       "        Run_Time  Train_MAE  Test_MAE     delta\n",
       "LT_5   65.029189   1.463658  1.968609  0.504951\n",
       "LT_10  67.254275   1.463658  1.968609  0.504951\n",
       "LT_15  73.677303   1.463658  1.968609  0.504951\n",
       "LT_20  72.653455   1.463658  1.968609  0.504951"
      ]
     },
     "execution_count": 14,
     "metadata": {},
     "output_type": "execute_result"
    }
   ],
   "source": [
    "metrics = {}\n",
    "for max_depth in [5, 10, 15, 20]:\n",
    "    start_time = time.time()\n",
    "    model = LinearTreeRegressor(max_depth = max_depth, base_estimator=LinearRegression())\n",
    "    model.fit(train[model_columns],train.tmax_mañana);\n",
    "\n",
    "    train_pred = model.predict(train[model_columns])\n",
    "    test_pred = model.predict(test[model_columns])\n",
    "\n",
    "    metrics['LT_'+ str(max_depth)] = {\n",
    "        'Train_MAE': mean_absolute_error(train.tmax_mañana, train_pred),\n",
    "        'Test_MAE': mean_absolute_error(test.tmax_mañana, test_pred),\n",
    "        'Run_Time': time.time() - start_time\n",
    "    }\n",
    "\n",
    "metrics_LT = pd.DataFrame.from_dict(metrics, orient='index',columns=['Run_Time', 'Train_MAE', 'Test_MAE'])\n",
    "metrics_LT['delta'] = metrics_LT.Test_MAE - metrics_LT.Train_MAE\n",
    "metrics_LT"
   ]
  },
  {
   "cell_type": "code",
   "execution_count": 15,
   "id": "5d4a13f2",
   "metadata": {},
   "outputs": [],
   "source": [
    "metrics_LT.to_parquet('lt_tmax.parquet')"
   ]
  },
  {
   "cell_type": "markdown",
   "id": "956810f3",
   "metadata": {},
   "source": [
    "## Target: tmin_mañana"
   ]
  },
  {
   "cell_type": "code",
   "execution_count": 16,
   "id": "eeb6c46f",
   "metadata": {},
   "outputs": [
    {
     "data": {
      "text/html": [
       "<div>\n",
       "<style scoped>\n",
       "    .dataframe tbody tr th:only-of-type {\n",
       "        vertical-align: middle;\n",
       "    }\n",
       "\n",
       "    .dataframe tbody tr th {\n",
       "        vertical-align: top;\n",
       "    }\n",
       "\n",
       "    .dataframe thead th {\n",
       "        text-align: right;\n",
       "    }\n",
       "</style>\n",
       "<table border=\"1\" class=\"dataframe\">\n",
       "  <thead>\n",
       "    <tr style=\"text-align: right;\">\n",
       "      <th></th>\n",
       "      <th>Run_Time</th>\n",
       "      <th>Train_MAE</th>\n",
       "      <th>Test_MAE</th>\n",
       "      <th>delta</th>\n",
       "    </tr>\n",
       "  </thead>\n",
       "  <tbody>\n",
       "    <tr>\n",
       "      <th>LT_5</th>\n",
       "      <td>68.558478</td>\n",
       "      <td>1.215344</td>\n",
       "      <td>1.46806</td>\n",
       "      <td>0.252716</td>\n",
       "    </tr>\n",
       "    <tr>\n",
       "      <th>LT_10</th>\n",
       "      <td>71.985860</td>\n",
       "      <td>1.215344</td>\n",
       "      <td>1.46806</td>\n",
       "      <td>0.252716</td>\n",
       "    </tr>\n",
       "    <tr>\n",
       "      <th>LT_15</th>\n",
       "      <td>72.247759</td>\n",
       "      <td>1.215344</td>\n",
       "      <td>1.46806</td>\n",
       "      <td>0.252716</td>\n",
       "    </tr>\n",
       "    <tr>\n",
       "      <th>LT_20</th>\n",
       "      <td>70.365083</td>\n",
       "      <td>1.215344</td>\n",
       "      <td>1.46806</td>\n",
       "      <td>0.252716</td>\n",
       "    </tr>\n",
       "  </tbody>\n",
       "</table>\n",
       "</div>"
      ],
      "text/plain": [
       "        Run_Time  Train_MAE  Test_MAE     delta\n",
       "LT_5   68.558478   1.215344   1.46806  0.252716\n",
       "LT_10  71.985860   1.215344   1.46806  0.252716\n",
       "LT_15  72.247759   1.215344   1.46806  0.252716\n",
       "LT_20  70.365083   1.215344   1.46806  0.252716"
      ]
     },
     "execution_count": 16,
     "metadata": {},
     "output_type": "execute_result"
    }
   ],
   "source": [
    "metrics = {}\n",
    "for max_depth in [5, 10, 15, 20]:\n",
    "    start_time = time.time()\n",
    "    model = LinearTreeRegressor(max_depth = max_depth, base_estimator=LinearRegression())\n",
    "    model.fit(train[model_columns],train.tmin_mañana);\n",
    "\n",
    "    train_pred = model.predict(train[model_columns])\n",
    "    test_pred = model.predict(test[model_columns])\n",
    "\n",
    "    metrics['LT_'+ str(max_depth)] = {\n",
    "        'Train_MAE': mean_absolute_error(train.tmin_mañana, train_pred),\n",
    "        'Test_MAE': mean_absolute_error(test.tmin_mañana, test_pred),\n",
    "        'Run_Time': time.time() - start_time\n",
    "    }\n",
    "\n",
    "metrics_LT = pd.DataFrame.from_dict(metrics, orient='index',columns=['Run_Time', 'Train_MAE', 'Test_MAE'])\n",
    "metrics_LT['delta'] = metrics_LT.Test_MAE - metrics_LT.Train_MAE\n",
    "metrics_LT"
   ]
  },
  {
   "cell_type": "code",
   "execution_count": 17,
   "id": "c7f2363b",
   "metadata": {},
   "outputs": [],
   "source": [
    "metrics_LT.to_parquet('lt_tmin.parquet')"
   ]
  },
  {
   "cell_type": "markdown",
   "id": "2afde69d",
   "metadata": {},
   "source": [
    "## Target: prec_mañana"
   ]
  },
  {
   "cell_type": "code",
   "execution_count": 18,
   "id": "d9a0bce6",
   "metadata": {},
   "outputs": [
    {
     "data": {
      "text/html": [
       "<div>\n",
       "<style scoped>\n",
       "    .dataframe tbody tr th:only-of-type {\n",
       "        vertical-align: middle;\n",
       "    }\n",
       "\n",
       "    .dataframe tbody tr th {\n",
       "        vertical-align: top;\n",
       "    }\n",
       "\n",
       "    .dataframe thead th {\n",
       "        text-align: right;\n",
       "    }\n",
       "</style>\n",
       "<table border=\"1\" class=\"dataframe\">\n",
       "  <thead>\n",
       "    <tr style=\"text-align: right;\">\n",
       "      <th></th>\n",
       "      <th>Run_Time</th>\n",
       "      <th>Train_MAE</th>\n",
       "      <th>Test_MAE</th>\n",
       "      <th>delta</th>\n",
       "    </tr>\n",
       "  </thead>\n",
       "  <tbody>\n",
       "    <tr>\n",
       "      <th>LT_5</th>\n",
       "      <td>85.303407</td>\n",
       "      <td>1.500934</td>\n",
       "      <td>1.864288</td>\n",
       "      <td>0.363354</td>\n",
       "    </tr>\n",
       "    <tr>\n",
       "      <th>LT_10</th>\n",
       "      <td>87.478316</td>\n",
       "      <td>1.512284</td>\n",
       "      <td>1.897018</td>\n",
       "      <td>0.384734</td>\n",
       "    </tr>\n",
       "    <tr>\n",
       "      <th>LT_15</th>\n",
       "      <td>85.742507</td>\n",
       "      <td>1.512284</td>\n",
       "      <td>1.897018</td>\n",
       "      <td>0.384734</td>\n",
       "    </tr>\n",
       "    <tr>\n",
       "      <th>LT_20</th>\n",
       "      <td>86.678037</td>\n",
       "      <td>1.512284</td>\n",
       "      <td>1.897018</td>\n",
       "      <td>0.384734</td>\n",
       "    </tr>\n",
       "  </tbody>\n",
       "</table>\n",
       "</div>"
      ],
      "text/plain": [
       "        Run_Time  Train_MAE  Test_MAE     delta\n",
       "LT_5   85.303407   1.500934  1.864288  0.363354\n",
       "LT_10  87.478316   1.512284  1.897018  0.384734\n",
       "LT_15  85.742507   1.512284  1.897018  0.384734\n",
       "LT_20  86.678037   1.512284  1.897018  0.384734"
      ]
     },
     "execution_count": 18,
     "metadata": {},
     "output_type": "execute_result"
    }
   ],
   "source": [
    "metrics = {}\n",
    "for max_depth in [5, 10, 15, 20]:\n",
    "    start_time = time.time()\n",
    "    model = LinearTreeRegressor(max_depth = max_depth, base_estimator=LinearRegression())\n",
    "    model.fit(train[model_columns],train.prec_mañana);\n",
    "\n",
    "    train_pred = model.predict(train[model_columns])\n",
    "    test_pred = model.predict(test[model_columns])\n",
    "\n",
    "    metrics['LT_'+ str(max_depth)] = {\n",
    "        'Train_MAE': mean_absolute_error(train.prec_mañana, train_pred),\n",
    "        'Test_MAE': mean_absolute_error(test.prec_mañana, test_pred),\n",
    "        'Run_Time': time.time() - start_time\n",
    "    }\n",
    "\n",
    "metrics_LT = pd.DataFrame.from_dict(metrics, orient='index',columns=['Run_Time', 'Train_MAE', 'Test_MAE'])\n",
    "metrics_LT['delta'] = metrics_LT.Test_MAE - metrics_LT.Train_MAE\n",
    "metrics_LT"
   ]
  },
  {
   "cell_type": "code",
   "execution_count": 19,
   "id": "6388fea2",
   "metadata": {},
   "outputs": [],
   "source": [
    "metrics_LT.to_parquet('lt_prec.parquet')"
   ]
  },
  {
   "cell_type": "markdown",
   "id": "586df2a7",
   "metadata": {},
   "source": [
    "## Target: sol_mañana"
   ]
  },
  {
   "cell_type": "code",
   "execution_count": 20,
   "id": "05fd02eb",
   "metadata": {},
   "outputs": [
    {
     "data": {
      "text/html": [
       "<div>\n",
       "<style scoped>\n",
       "    .dataframe tbody tr th:only-of-type {\n",
       "        vertical-align: middle;\n",
       "    }\n",
       "\n",
       "    .dataframe tbody tr th {\n",
       "        vertical-align: top;\n",
       "    }\n",
       "\n",
       "    .dataframe thead th {\n",
       "        text-align: right;\n",
       "    }\n",
       "</style>\n",
       "<table border=\"1\" class=\"dataframe\">\n",
       "  <thead>\n",
       "    <tr style=\"text-align: right;\">\n",
       "      <th></th>\n",
       "      <th>Run_Time</th>\n",
       "      <th>Train_MAE</th>\n",
       "      <th>Test_MAE</th>\n",
       "      <th>delta</th>\n",
       "    </tr>\n",
       "  </thead>\n",
       "  <tbody>\n",
       "    <tr>\n",
       "      <th>LT_5</th>\n",
       "      <td>63.946213</td>\n",
       "      <td>2.140632</td>\n",
       "      <td>2.508725</td>\n",
       "      <td>0.368093</td>\n",
       "    </tr>\n",
       "    <tr>\n",
       "      <th>LT_10</th>\n",
       "      <td>65.321449</td>\n",
       "      <td>2.140632</td>\n",
       "      <td>2.508725</td>\n",
       "      <td>0.368093</td>\n",
       "    </tr>\n",
       "    <tr>\n",
       "      <th>LT_15</th>\n",
       "      <td>61.032966</td>\n",
       "      <td>2.140632</td>\n",
       "      <td>2.508725</td>\n",
       "      <td>0.368093</td>\n",
       "    </tr>\n",
       "    <tr>\n",
       "      <th>LT_20</th>\n",
       "      <td>62.871936</td>\n",
       "      <td>2.140632</td>\n",
       "      <td>2.508725</td>\n",
       "      <td>0.368093</td>\n",
       "    </tr>\n",
       "  </tbody>\n",
       "</table>\n",
       "</div>"
      ],
      "text/plain": [
       "        Run_Time  Train_MAE  Test_MAE     delta\n",
       "LT_5   63.946213   2.140632  2.508725  0.368093\n",
       "LT_10  65.321449   2.140632  2.508725  0.368093\n",
       "LT_15  61.032966   2.140632  2.508725  0.368093\n",
       "LT_20  62.871936   2.140632  2.508725  0.368093"
      ]
     },
     "execution_count": 20,
     "metadata": {},
     "output_type": "execute_result"
    }
   ],
   "source": [
    "metrics = {}\n",
    "for max_depth in [5, 10, 15, 20]:\n",
    "    start_time = time.time()\n",
    "    model = LinearTreeRegressor(max_depth = max_depth, base_estimator=LinearRegression())\n",
    "    model.fit(train[model_columns],train.sol_mañana);\n",
    "\n",
    "    train_pred = model.predict(train[model_columns])\n",
    "    test_pred = model.predict(test[model_columns])\n",
    "\n",
    "    metrics['LT_'+ str(max_depth)] = {\n",
    "        'Train_MAE': mean_absolute_error(train.sol_mañana, train_pred),\n",
    "        'Test_MAE': mean_absolute_error(test.sol_mañana, test_pred),\n",
    "        'Run_Time': time.time() - start_time\n",
    "    }\n",
    "\n",
    "metrics_LT = pd.DataFrame.from_dict(metrics, orient='index',columns=['Run_Time', 'Train_MAE', 'Test_MAE'])\n",
    "metrics_LT['delta'] = metrics_LT.Test_MAE - metrics_LT.Train_MAE\n",
    "metrics_LT"
   ]
  },
  {
   "cell_type": "code",
   "execution_count": 21,
   "id": "6a186f57",
   "metadata": {},
   "outputs": [],
   "source": [
    "metrics_LT.to_parquet('lt_sol.parquet')"
   ]
  },
  {
   "cell_type": "code",
   "execution_count": null,
   "id": "beeb887c",
   "metadata": {},
   "outputs": [],
   "source": []
  }
 ],
 "metadata": {
  "kernelspec": {
   "display_name": "Python 3 (ipykernel)",
   "language": "python",
   "name": "python3"
  },
  "language_info": {
   "codemirror_mode": {
    "name": "ipython",
    "version": 3
   },
   "file_extension": ".py",
   "mimetype": "text/x-python",
   "name": "python",
   "nbconvert_exporter": "python",
   "pygments_lexer": "ipython3",
   "version": "3.9.12"
  }
 },
 "nbformat": 4,
 "nbformat_minor": 5
}
